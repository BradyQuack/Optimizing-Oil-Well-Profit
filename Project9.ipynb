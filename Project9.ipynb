{
 "cells": [
  {
   "cell_type": "markdown",
   "metadata": {},
   "source": [
    "# Optimizing Oil Well Profit: A Linear Regression & Bootstrapping Analysis\n",
    "## Overview\n",
    "This project tackles the challenge of maximizing profitability in oil well development by strategically selecting the most promising region for drilling. Leveraging synthetic geological exploration datasets from three regions, the project uses linear regression models to predict oil reserve volumes and bootstrapping techniques to assess profit distributions and associated risks.\n",
    "## Project Setup\n",
    "### Data Preparation:\n",
    "(1) Clean and preprocess synthetic datasets.\n",
    "\n",
    "(2) Verify data integrity, handle missing values, and ensure correct formats for features and target.\n",
    "### Model Training and Validation:\n",
    "(1) Split each region's data into 75% training and 25% validation sets.\n",
    "\n",
    "(2) Train a linear regression model on the training set.\n",
    "\n",
    "(3) Evaluate model performance using RMSE on the validation set.\n",
    "### Profit Calculation:\n",
    "(1) Use model predictions to select the top 200 oil wells out of 500 studied points per region.\n",
    "\n",
    "(2) Calculate potential profit based on business constraints and required reserve volume.\n",
    "### Risk Analysis with Bootstrapping:\n",
    "(1) Apply bootstrapping with 1000 samples to simulate profit distribution.\n",
    "\n",
    "(2) Determine average profit, 95% confidence interval, and probability of losses.\n",
    "## Conclusion:\n",
    "This analysis provides a clear and data driven roadmap for oil well development. The datasets across all three regions are robust and well structured, ensuring a reliable basis for predictive modeling. While Region0 and Region2 offer higher average predicted reserves, their greater uncertainty raises risk concerns. In contrast, Region1, although predicting lower reserves, delivers exceptionally precise forecasts with a minimal RMSE, making it more reliable for risk management. Furthermore, breakeven analysis shows that none of the regions, on average, reach the reserve volume necessary for guaranteed profitability without losses. Profit calculations reveal that Region0 appears to offer the highest potential revenue based on raw profit estimates, yet its risk profile is less favorable. The bootstrap analysis reinforces this perspective by demonstrating that Region1 achieves a consistent average profit with a tight 95% confidence interval and the lowest risk of losses at just 1.5%.\n",
    "\n",
    "These findings underscore the importance of balancing revenue potential with forecast reliability and risk. Although Region0's profit estimates are highest in absolute terms, Region1 offers the most favorable combination of accurate predictions and minimized risk, making it the optimal choice for strategic oil well development."
   ]
  },
  {
   "cell_type": "markdown",
   "metadata": {},
   "source": [
    "## Imports and Load Data"
   ]
  },
  {
   "cell_type": "code",
   "execution_count": 1,
   "metadata": {},
   "outputs": [],
   "source": [
    "# Imports\n",
    "import pandas as pd\n",
    "import numpy as np\n",
    "from scipy import stats as st\n",
    "from sklearn.model_selection import train_test_split\n",
    "from sklearn.linear_model import LinearRegression\n",
    "from sklearn.metrics import mean_squared_error"
   ]
  },
  {
   "cell_type": "code",
   "execution_count": 2,
   "metadata": {},
   "outputs": [],
   "source": [
    "# Load\n",
    "region0 = pd.read_csv('/datasets/geo_data_0.csv')\n",
    "region1 = pd.read_csv('/datasets/geo_data_1.csv')\n",
    "region2 = pd.read_csv('/datasets/geo_data_2.csv')"
   ]
  },
  {
   "cell_type": "code",
   "execution_count": 3,
   "metadata": {},
   "outputs": [
    {
     "name": "stdout",
     "output_type": "stream",
     "text": [
      "<class 'pandas.core.frame.DataFrame'>\n",
      "RangeIndex: 100000 entries, 0 to 99999\n",
      "Data columns (total 5 columns):\n",
      " #   Column   Non-Null Count   Dtype  \n",
      "---  ------   --------------   -----  \n",
      " 0   id       100000 non-null  object \n",
      " 1   f0       100000 non-null  float64\n",
      " 2   f1       100000 non-null  float64\n",
      " 3   f2       100000 non-null  float64\n",
      " 4   product  100000 non-null  float64\n",
      "dtypes: float64(4), object(1)\n",
      "memory usage: 3.8+ MB\n",
      "None\n",
      "<class 'pandas.core.frame.DataFrame'>\n",
      "RangeIndex: 100000 entries, 0 to 99999\n",
      "Data columns (total 5 columns):\n",
      " #   Column   Non-Null Count   Dtype  \n",
      "---  ------   --------------   -----  \n",
      " 0   id       100000 non-null  object \n",
      " 1   f0       100000 non-null  float64\n",
      " 2   f1       100000 non-null  float64\n",
      " 3   f2       100000 non-null  float64\n",
      " 4   product  100000 non-null  float64\n",
      "dtypes: float64(4), object(1)\n",
      "memory usage: 3.8+ MB\n",
      "None\n",
      "<class 'pandas.core.frame.DataFrame'>\n",
      "RangeIndex: 100000 entries, 0 to 99999\n",
      "Data columns (total 5 columns):\n",
      " #   Column   Non-Null Count   Dtype  \n",
      "---  ------   --------------   -----  \n",
      " 0   id       100000 non-null  object \n",
      " 1   f0       100000 non-null  float64\n",
      " 2   f1       100000 non-null  float64\n",
      " 3   f2       100000 non-null  float64\n",
      " 4   product  100000 non-null  float64\n",
      "dtypes: float64(4), object(1)\n",
      "memory usage: 3.8+ MB\n",
      "None\n"
     ]
    }
   ],
   "source": [
    "print(region0.info())\n",
    "print(region1.info())\n",
    "print(region2.info())"
   ]
  },
  {
   "cell_type": "code",
   "execution_count": 4,
   "metadata": {
    "scrolled": true
   },
   "outputs": [
    {
     "name": "stdout",
     "output_type": "stream",
     "text": [
      "0\n",
      "0\n",
      "0\n"
     ]
    }
   ],
   "source": [
    "print(region0.duplicated().sum())\n",
    "print(region1.duplicated().sum())\n",
    "print(region2.duplicated().sum())"
   ]
  },
  {
   "cell_type": "code",
   "execution_count": 5,
   "metadata": {},
   "outputs": [
    {
     "data": {
      "text/html": [
       "<div>\n",
       "<style scoped>\n",
       "    .dataframe tbody tr th:only-of-type {\n",
       "        vertical-align: middle;\n",
       "    }\n",
       "\n",
       "    .dataframe tbody tr th {\n",
       "        vertical-align: top;\n",
       "    }\n",
       "\n",
       "    .dataframe thead th {\n",
       "        text-align: right;\n",
       "    }\n",
       "</style>\n",
       "<table border=\"1\" class=\"dataframe\">\n",
       "  <thead>\n",
       "    <tr style=\"text-align: right;\">\n",
       "      <th></th>\n",
       "      <th>id</th>\n",
       "      <th>f0</th>\n",
       "      <th>f1</th>\n",
       "      <th>f2</th>\n",
       "      <th>product</th>\n",
       "    </tr>\n",
       "  </thead>\n",
       "  <tbody>\n",
       "    <tr>\n",
       "      <th>0</th>\n",
       "      <td>kBEdx</td>\n",
       "      <td>-15.001348</td>\n",
       "      <td>-8.276000</td>\n",
       "      <td>-0.005876</td>\n",
       "      <td>3.179103</td>\n",
       "    </tr>\n",
       "    <tr>\n",
       "      <th>1</th>\n",
       "      <td>62mP7</td>\n",
       "      <td>14.272088</td>\n",
       "      <td>-3.475083</td>\n",
       "      <td>0.999183</td>\n",
       "      <td>26.953261</td>\n",
       "    </tr>\n",
       "    <tr>\n",
       "      <th>2</th>\n",
       "      <td>vyE1P</td>\n",
       "      <td>6.263187</td>\n",
       "      <td>-5.948386</td>\n",
       "      <td>5.001160</td>\n",
       "      <td>134.766305</td>\n",
       "    </tr>\n",
       "    <tr>\n",
       "      <th>3</th>\n",
       "      <td>KcrkZ</td>\n",
       "      <td>-13.081196</td>\n",
       "      <td>-11.506057</td>\n",
       "      <td>4.999415</td>\n",
       "      <td>137.945408</td>\n",
       "    </tr>\n",
       "    <tr>\n",
       "      <th>4</th>\n",
       "      <td>AHL4O</td>\n",
       "      <td>12.702195</td>\n",
       "      <td>-8.147433</td>\n",
       "      <td>5.004363</td>\n",
       "      <td>134.766305</td>\n",
       "    </tr>\n",
       "    <tr>\n",
       "      <th>...</th>\n",
       "      <td>...</td>\n",
       "      <td>...</td>\n",
       "      <td>...</td>\n",
       "      <td>...</td>\n",
       "      <td>...</td>\n",
       "    </tr>\n",
       "    <tr>\n",
       "      <th>99995</th>\n",
       "      <td>QywKC</td>\n",
       "      <td>9.535637</td>\n",
       "      <td>-6.878139</td>\n",
       "      <td>1.998296</td>\n",
       "      <td>53.906522</td>\n",
       "    </tr>\n",
       "    <tr>\n",
       "      <th>99996</th>\n",
       "      <td>ptvty</td>\n",
       "      <td>-10.160631</td>\n",
       "      <td>-12.558096</td>\n",
       "      <td>5.005581</td>\n",
       "      <td>137.945408</td>\n",
       "    </tr>\n",
       "    <tr>\n",
       "      <th>99997</th>\n",
       "      <td>09gWa</td>\n",
       "      <td>-7.378891</td>\n",
       "      <td>-3.084104</td>\n",
       "      <td>4.998651</td>\n",
       "      <td>137.945408</td>\n",
       "    </tr>\n",
       "    <tr>\n",
       "      <th>99998</th>\n",
       "      <td>rqwUm</td>\n",
       "      <td>0.665714</td>\n",
       "      <td>-6.152593</td>\n",
       "      <td>1.000146</td>\n",
       "      <td>30.132364</td>\n",
       "    </tr>\n",
       "    <tr>\n",
       "      <th>99999</th>\n",
       "      <td>relB0</td>\n",
       "      <td>-3.426139</td>\n",
       "      <td>-7.794274</td>\n",
       "      <td>-0.003299</td>\n",
       "      <td>3.179103</td>\n",
       "    </tr>\n",
       "  </tbody>\n",
       "</table>\n",
       "<p>100000 rows × 5 columns</p>\n",
       "</div>"
      ],
      "text/plain": [
       "          id         f0         f1        f2     product\n",
       "0      kBEdx -15.001348  -8.276000 -0.005876    3.179103\n",
       "1      62mP7  14.272088  -3.475083  0.999183   26.953261\n",
       "2      vyE1P   6.263187  -5.948386  5.001160  134.766305\n",
       "3      KcrkZ -13.081196 -11.506057  4.999415  137.945408\n",
       "4      AHL4O  12.702195  -8.147433  5.004363  134.766305\n",
       "...      ...        ...        ...       ...         ...\n",
       "99995  QywKC   9.535637  -6.878139  1.998296   53.906522\n",
       "99996  ptvty -10.160631 -12.558096  5.005581  137.945408\n",
       "99997  09gWa  -7.378891  -3.084104  4.998651  137.945408\n",
       "99998  rqwUm   0.665714  -6.152593  1.000146   30.132364\n",
       "99999  relB0  -3.426139  -7.794274 -0.003299    3.179103\n",
       "\n",
       "[100000 rows x 5 columns]"
      ]
     },
     "execution_count": 5,
     "metadata": {},
     "output_type": "execute_result"
    }
   ],
   "source": [
    "region1"
   ]
  },
  {
   "cell_type": "code",
   "execution_count": 21,
   "metadata": {},
   "outputs": [
    {
     "data": {
      "text/plain": [
       "array([[<AxesSubplot:title={'center':'f0'}>,\n",
       "        <AxesSubplot:title={'center':'f1'}>],\n",
       "       [<AxesSubplot:title={'center':'f2'}>, <AxesSubplot:>]],\n",
       "      dtype=object)"
      ]
     },
     "execution_count": 21,
     "metadata": {},
     "output_type": "execute_result"
    },
    {
     "data": {
      "image/png": "[encoded data removed]",
      "text/plain": [
       "<Figure size 640x480 with 4 Axes>"
      ]
     },
     "metadata": {},
     "output_type": "display_data"
    }
   ],
   "source": [
    "region0[['f0', 'f1', 'f2']].hist(bins=20)"
   ]
  },
  {
   "cell_type": "code",
   "execution_count": 22,
   "metadata": {},
   "outputs": [
    {
     "data": {
      "text/plain": [
       "array([[<AxesSubplot:title={'center':'f0'}>,\n",
       "        <AxesSubplot:title={'center':'f1'}>],\n",
       "       [<AxesSubplot:title={'center':'f2'}>, <AxesSubplot:>]],\n",
       "      dtype=object)"
      ]
     },
     "execution_count": 22,
     "metadata": {},
     "output_type": "execute_result"
    },
    {
     "data": {
      "image/png": "[encoded data removed]",
      "text/plain": [
       "<Figure size 640x480 with 4 Axes>"
      ]
     },
     "metadata": {},
     "output_type": "display_data"
    }
   ],
   "source": [
    "region1[['f0', 'f1', 'f2']].hist(bins=20)"
   ]
  },
  {
   "cell_type": "code",
   "execution_count": 23,
   "metadata": {},
   "outputs": [
    {
     "data": {
      "text/plain": [
       "array([[<AxesSubplot:title={'center':'f0'}>,\n",
       "        <AxesSubplot:title={'center':'f1'}>],\n",
       "       [<AxesSubplot:title={'center':'f2'}>, <AxesSubplot:>]],\n",
       "      dtype=object)"
      ]
     },
     "execution_count": 23,
     "metadata": {},
     "output_type": "execute_result"
    },
    {
     "data": {
      "image/png": "[encoded data removed]",
      "text/plain": [
       "<Figure size 640x480 with 4 Axes>"
      ]
     },
     "metadata": {},
     "output_type": "display_data"
    }
   ],
   "source": [
    "region2[['f0', 'f1', 'f2']].hist(bins=20)"
   ]
  },
  {
   "cell_type": "markdown",
   "metadata": {},
   "source": [
    "### Summary:\n",
    "The datasets for all three regions are robust and well-structured, each containing 100,000 unique entries with no missing values or duplicates. Each dataset includes an 'id' column for a unique oil well identifier, three numeric features (f0, f1, f2) that capture essential characteristics of the wells, and a 'product' column representing the volume of oil reserves in thousand barrels. This consistent data quality and structure provide a solid foundation for the subsequent modeling and analysis steps in the project."
   ]
  },
  {
   "cell_type": "markdown",
   "metadata": {},
   "source": [
    "## Model Testing"
   ]
  },
  {
   "cell_type": "code",
   "execution_count": 6,
   "metadata": {},
   "outputs": [],
   "source": [
    "def train_test_model(data):\n",
    "    features = data[['f0', 'f1', 'f2']]\n",
    "    target = data['product']\n",
    "    \n",
    "    features_train, features_valid, target_train, target_valid =  train_test_split(features, target, test_size=.25, random_state=12345)\n",
    "    \n",
    "    model = LinearRegression()\n",
    "    model.fit(features_train, target_train)\n",
    "    \n",
    "    predicted_valid = model.predict(features_valid)\n",
    "    \n",
    "    avg = target_valid.reset_index(drop=True).mean()\n",
    "    rmse = mean_squared_error(target_valid, predicted_valid)**.5\n",
    "    \n",
    "    return predicted_valid, target_valid, rmse, avg                 "
   ]
  },
  {
   "cell_type": "code",
   "execution_count": 7,
   "metadata": {},
   "outputs": [],
   "source": [
    "predicted_valid0, target_valid0, rmse0, avg0 = train_test_model(region0)\n",
    "predicted_valid1, target_valid1, rmse1, avg1 = train_test_model(region1)\n",
    "predicted_valid2, target_valid2, rmse2, avg2 = train_test_model(region2)"
   ]
  },
  {
   "cell_type": "code",
   "execution_count": 8,
   "metadata": {},
   "outputs": [
    {
     "name": "stdout",
     "output_type": "stream",
     "text": [
      "Region0\n",
      "RMSE: 37.579\n",
      "Average Predicted Reserves: 92.079\n",
      "\n",
      "Region1\n",
      "RMSE: 0.893\n",
      "Average Predicted Reserves: 68.723\n",
      "\n",
      "Region2\n",
      "RMSE: 40.03\n",
      "Average Predicted Reserves: 94.884\n"
     ]
    }
   ],
   "source": [
    "print('Region0')\n",
    "print('RMSE:', round(rmse0, 3))\n",
    "print('Average Predicted Reserves:', round(avg0, 3))\n",
    "print()\n",
    "print('Region1')\n",
    "print('RMSE:', round(rmse1, 3))\n",
    "print('Average Predicted Reserves:', round(avg1, 3))\n",
    "print()\n",
    "print('Region2')\n",
    "print('RMSE:', round(rmse2, 3))\n",
    "print('Average Predicted Reserves:', round(avg2, 3))"
   ]
  },
  {
   "cell_type": "markdown",
   "metadata": {},
   "source": [
    "### Summary:\n",
    "Region0 has an average predicted reserve of 92.08 thousand barrels with an RMSE of 37.58, indicating moderate uncertainty. Region1 offers the lowest RMSE of 0.893, reflecting high accuracy, but lower reserves at 68.72 thousand barrels. Region2 provides the highest reserves at 94.88 thousand barrels but with a higher RMSE of 40.03, indicating greater uncertainty. Region1 may offer more reliable predictions for risk management despite its lower reserve estimate."
   ]
  },
  {
   "cell_type": "markdown",
   "metadata": {},
   "source": [
    "## Profit Calculation"
   ]
  },
  {
   "cell_type": "code",
   "execution_count": 9,
   "metadata": {},
   "outputs": [
    {
     "name": "stdout",
     "output_type": "stream",
     "text": [
      "Break Even Volume Per Well: 111.11 (Thousand Barrels)\n"
     ]
    }
   ],
   "source": [
    "#The budget for development of 200 oil wells is 100 USD million.\n",
    "d_budget = 100000000\n",
    "wells = 200\n",
    "\n",
    "cost_per_well = d_budget / wells\n",
    "\n",
    "#One barrel of raw materials brings 4.5 USD of revenue The revenue from one unit of product is 4,500 dollars\n",
    "rev_per_unit = 4500\n",
    "\n",
    "break_even = cost_per_well / rev_per_unit\n",
    "\n",
    "print(\"Break Even Volume Per Well:\", round(break_even, 2), \"(Thousand Barrels)\")"
   ]
  },
  {
   "cell_type": "markdown",
   "metadata": {},
   "source": [
    "### Summary:\n",
    "This calculation determines that each well must produce approximately 111.11 thousand barrels to cover its development cost. When comparing this break-even threshold with the average predicted reserves from our earlier model results—Region 0 at 92.59, Region 1 at 68.73, and Region 2 at 94.97 thousand barrels—it is evident that none of the regions, on average, reach the necessary volume to guarantee profitability without losses. "
   ]
  },
  {
   "cell_type": "markdown",
   "metadata": {},
   "source": [
    "## Profit of Top Wells by Region"
   ]
  },
  {
   "cell_type": "code",
   "execution_count": 10,
   "metadata": {},
   "outputs": [],
   "source": [
    "def calc_profit(target, predictions):\n",
    "    target = pd.Series(target).reset_index(drop=True)\n",
    "    predictions = pd.Series(predictions)\n",
    "    \n",
    "    predictions_sorted = predictions.sort_values(ascending=False)\n",
    "    selected = target[predictions_sorted.index][:wells]\n",
    "    \n",
    "    profit = (selected.sum() * rev_per_unit) - d_budget\n",
    "    profit = round(profit, 2)\n",
    "    \n",
    "    return profit"
   ]
  },
  {
   "cell_type": "code",
   "execution_count": 11,
   "metadata": {},
   "outputs": [],
   "source": [
    "profit0 = calc_profit(target_valid0, predicted_valid0)\n",
    "profit1 = calc_profit(target_valid1, predicted_valid1)\n",
    "profit2 = calc_profit(target_valid2, predicted_valid2)"
   ]
  },
  {
   "cell_type": "code",
   "execution_count": 12,
   "metadata": {},
   "outputs": [
    {
     "name": "stdout",
     "output_type": "stream",
     "text": [
      "Region0\n",
      "Profit: 33208260.43\n",
      "\n",
      "Region1\n",
      "Profit: 24150866.97\n",
      "\n",
      "Region2\n",
      "Profit: 27103499.64\n"
     ]
    }
   ],
   "source": [
    "print(\"Region0\")\n",
    "print(\"Profit:\", profit0)\n",
    "print()\n",
    "print(\"Region1\")\n",
    "print(\"Profit:\", profit1)\n",
    "print()\n",
    "print(\"Region2\")\n",
    "print(\"Profit:\", profit2)"
   ]
  },
  {
   "cell_type": "markdown",
   "metadata": {},
   "source": [
    "### Summary:\n",
    "Region0 leads with the highest profit at 33,208,260, followed by Region2 at 27,103,499, and Region1 at 24,150,866. Despite Region1's lower profit, its more accurate predictions suggest it may be more reliable for risk management, while Region0’s higher profit offers greater revenue potential."
   ]
  },
  {
   "cell_type": "markdown",
   "metadata": {},
   "source": [
    "## Bootstrap"
   ]
  },
  {
   "cell_type": "code",
   "execution_count": 13,
   "metadata": {},
   "outputs": [],
   "source": [
    "def bootstrap(target, predictions):\n",
    "    target = pd.Series(target).reset_index(drop=True)\n",
    "    state = np.random.RandomState(12345)\n",
    "    values = []\n",
    "    \n",
    "    for i in range(1000):\n",
    "        target_subsample = target.sample(n=500, replace=True, random_state=state)\n",
    "        predictions_subsample = predictions[target_subsample.index]\n",
    "        values.append(calc_profit(target_subsample, predictions_subsample))\n",
    "        \n",
    "    values = pd.Series(values)\n",
    "    avg_profit = values.mean()\n",
    "    \n",
    "    print(\"Wells in Profit:\", values.gt(0).sum())\n",
    "    print(\"Percentage of Well in Profit:\", values.gt(0).sum() / len(values))\n",
    "    print(\"Average Profit:\", round(values.mean(), 2))\n",
    "    \n",
    "    return values"
   ]
  },
  {
   "cell_type": "code",
   "execution_count": 14,
   "metadata": {
    "scrolled": true
   },
   "outputs": [
    {
     "name": "stdout",
     "output_type": "stream",
     "text": [
      "Region0\n",
      "Wells in Profit: 931\n",
      "Percentage of Well in Profit: 0.931\n",
      "Average Profit: 3961649.85\n",
      "\n",
      "Region1\n",
      "Wells in Profit: 985\n",
      "Percentage of Well in Profit: 0.985\n",
      "Average Profit: 4560451.06\n",
      "\n",
      "Region2\n",
      "Wells in Profit: 924\n",
      "Percentage of Well in Profit: 0.924\n",
      "Average Profit: 4044038.67\n"
     ]
    }
   ],
   "source": [
    "print(\"Region0\")\n",
    "values0 = bootstrap(target_valid0, predicted_valid0)\n",
    "print()\n",
    "print(\"Region1\")\n",
    "values1 = bootstrap(target_valid1, predicted_valid1)\n",
    "print()\n",
    "print(\"Region2\")\n",
    "values2 = bootstrap(target_valid2, predicted_valid2)"
   ]
  },
  {
   "cell_type": "code",
   "execution_count": 15,
   "metadata": {},
   "outputs": [],
   "source": [
    "def confidence_interval(v):\n",
    "    ci = st.t.interval(.95, len(v) - 1, v.mean(), v.sem())\n",
    "    loss_risk = (v < .025).sum() / len(v)\n",
    "    \n",
    "    print(\"95% Confidence Interval:\", ci)\n",
    "    print(\"Risk of Losses:\", loss_risk * 100)"
   ]
  },
  {
   "cell_type": "code",
   "execution_count": 16,
   "metadata": {},
   "outputs": [
    {
     "name": "stdout",
     "output_type": "stream",
     "text": [
      "Region0\n",
      "95% Confidence Interval: (3796203.1515261983, 4127096.5446138014)\n",
      "Risk of Losses: 6.9\n",
      "\n",
      "Region1\n",
      "95% Confidence Interval: (4431472.486816604, 4689429.629283395)\n",
      "Risk of Losses: 1.5\n",
      "\n",
      "Region2\n",
      "95% Confidence Interval: (3874457.9747755965, 4213619.356724404)\n",
      "Risk of Losses: 7.6\n"
     ]
    }
   ],
   "source": [
    "print(\"Region0\")\n",
    "confidence_interval(values0)\n",
    "print()\n",
    "print(\"Region1\")\n",
    "confidence_interval(values1)\n",
    "print()\n",
    "print(\"Region2\")\n",
    "confidence_interval(values2)"
   ]
  },
  {
   "cell_type": "markdown",
   "metadata": {},
   "source": [
    "### Summary:\n",
    "This bootstrap analysis clearly indicates that Region1 is the most attractive option for oil well development. It achieves an average profit of approximately 4.56 million, with 98.5% of the bootstrap samples yielding a profit. Its 95% confidence interval is tight which suggests high consistency in profit estimates. Additionally, the risk of losses is exceptionally low at 1.5%, compared to 6.9% in Region0 and 7.6% in Region2. Overall, these metrics support the conclusion that Region1 offers the most favorable balance of potential returns and risk mitigation for oil well development."
   ]
  },
  {
   "cell_type": "markdown",
   "metadata": {},
   "source": [
    "## Conclusion:\n",
    "Our analysis provides a clear and data driven roadmap for oil well development. The datasets across all three regions are robust and well structured, ensuring a reliable basis for predictive modeling. While Region0 and Region2 offer higher average predicted reserves, their greater uncertainty raises risk concerns. In contrast, Region1, although predicting lower reserves, delivers exceptionally precise forecasts with a minimal RMSE, making it more reliable for risk management. Furthermore, breakeven analysis shows that none of the regions, on average, reach the reserve volume necessary for guaranteed profitability without losses. Profit calculations reveal that Region0 appears to offer the highest potential revenue based on raw profit estimates, yet its risk profile is less favorable. The bootstrap analysis reinforces this perspective by demonstrating that Region1 achieves a consistent average profit with a tight 95% confidence interval and the lowest risk of losses at just 1.5%.\n",
    "\n",
    "These findings underscore the importance of balancing revenue potential with forecast reliability and risk. Although Region0's profit estimates are highest in absolute terms, Region1 offers the most favorable combination of accurate predictions and minimized risk, making it the optimal choice for strategic oil well development."
   ]
  }
 ],
 "metadata": {
  "ExecuteTimeLog": [
   {
    "duration": 320,
    "start_time": "2025-02-19T02:19:11.995Z"
   },
   {
    "duration": 561,
    "start_time": "2025-02-19T02:21:56.848Z"
   },
   {
    "duration": 111,
    "start_time": "2025-02-19T02:22:48.423Z"
   },
   {
    "duration": 14,
    "start_time": "2025-02-19T02:23:29.252Z"
   },
   {
    "duration": 287,
    "start_time": "2025-02-19T02:23:34.864Z"
   },
   {
    "duration": 11,
    "start_time": "2025-02-19T02:23:37.590Z"
   },
   {
    "duration": 12,
    "start_time": "2025-02-19T02:23:42.243Z"
   },
   {
    "duration": 268,
    "start_time": "2025-02-19T02:23:49.320Z"
   },
   {
    "duration": 11,
    "start_time": "2025-02-19T02:23:51.451Z"
   },
   {
    "duration": 10,
    "start_time": "2025-02-19T02:23:53.403Z"
   },
   {
    "duration": 13,
    "start_time": "2025-02-19T02:26:00.126Z"
   },
   {
    "duration": 261,
    "start_time": "2025-02-19T02:26:17.472Z"
   },
   {
    "duration": 26,
    "start_time": "2025-02-19T02:26:37.588Z"
   },
   {
    "duration": 219,
    "start_time": "2025-02-19T02:29:04.827Z"
   },
   {
    "duration": 26,
    "start_time": "2025-02-19T02:29:07.575Z"
   },
   {
    "duration": 80,
    "start_time": "2025-02-19T02:30:00.003Z"
   },
   {
    "duration": 616,
    "start_time": "2025-02-19T02:30:56.590Z"
   },
   {
    "duration": 821,
    "start_time": "2025-02-19T02:31:01.261Z"
   },
   {
    "duration": 239,
    "start_time": "2025-02-19T02:31:02.085Z"
   },
   {
    "duration": 29,
    "start_time": "2025-02-19T02:31:02.326Z"
   },
   {
    "duration": 96,
    "start_time": "2025-02-19T02:31:02.358Z"
   },
   {
    "duration": 215,
    "start_time": "2025-02-19T02:36:06.826Z"
   },
   {
    "duration": 15,
    "start_time": "2025-02-19T02:36:10.869Z"
   },
   {
    "duration": 3,
    "start_time": "2025-02-19T02:44:48.110Z"
   },
   {
    "duration": 3,
    "start_time": "2025-02-19T02:45:25.888Z"
   },
   {
    "duration": 439,
    "start_time": "2025-02-19T02:45:27.819Z"
   },
   {
    "duration": 811,
    "start_time": "2025-02-19T02:45:48.493Z"
   },
   {
    "duration": 218,
    "start_time": "2025-02-19T02:45:49.306Z"
   },
   {
    "duration": 28,
    "start_time": "2025-02-19T02:45:49.525Z"
   },
   {
    "duration": 92,
    "start_time": "2025-02-19T02:45:49.554Z"
   },
   {
    "duration": 25,
    "start_time": "2025-02-19T02:45:49.649Z"
   },
   {
    "duration": 2,
    "start_time": "2025-02-19T02:45:49.676Z"
   },
   {
    "duration": 3,
    "start_time": "2025-02-19T02:45:49.680Z"
   },
   {
    "duration": 631,
    "start_time": "2025-02-19T02:45:49.685Z"
   },
   {
    "duration": 20,
    "start_time": "2025-02-19T02:48:49.723Z"
   },
   {
    "duration": 4,
    "start_time": "2025-02-19T02:49:11.326Z"
   },
   {
    "duration": 47,
    "start_time": "2025-02-19T02:49:13.472Z"
   },
   {
    "duration": 4,
    "start_time": "2025-02-19T02:49:24.372Z"
   },
   {
    "duration": 22,
    "start_time": "2025-02-19T02:49:26.834Z"
   },
   {
    "duration": 4,
    "start_time": "2025-02-19T02:49:36.304Z"
   },
   {
    "duration": 20,
    "start_time": "2025-02-19T02:49:37.993Z"
   },
   {
    "duration": 9,
    "start_time": "2025-02-19T02:50:01.617Z"
   },
   {
    "duration": 3,
    "start_time": "2025-02-19T02:50:12.974Z"
   },
   {
    "duration": 19,
    "start_time": "2025-02-19T02:50:14.529Z"
   },
   {
    "duration": 5,
    "start_time": "2025-02-19T02:50:34.707Z"
   },
   {
    "duration": 5,
    "start_time": "2025-02-19T02:50:38.129Z"
   },
   {
    "duration": 21,
    "start_time": "2025-02-19T02:50:39.566Z"
   },
   {
    "duration": 25,
    "start_time": "2025-02-19T02:50:54.719Z"
   },
   {
    "duration": 18,
    "start_time": "2025-02-19T02:51:11.334Z"
   },
   {
    "duration": 4,
    "start_time": "2025-02-19T02:58:51.574Z"
   },
   {
    "duration": 4,
    "start_time": "2025-02-19T02:59:06.098Z"
   },
   {
    "duration": 3,
    "start_time": "2025-02-19T02:59:08.816Z"
   },
   {
    "duration": 4,
    "start_time": "2025-02-19T02:59:57.893Z"
   },
   {
    "duration": 3,
    "start_time": "2025-02-19T03:00:17.386Z"
   },
   {
    "duration": 3,
    "start_time": "2025-02-19T03:00:24.365Z"
   },
   {
    "duration": 5,
    "start_time": "2025-02-19T13:25:17.599Z"
   },
   {
    "duration": 4,
    "start_time": "2025-02-19T13:25:26.542Z"
   },
   {
    "duration": 24,
    "start_time": "2025-02-19T13:25:28.299Z"
   },
   {
    "duration": 31,
    "start_time": "2025-02-19T13:25:59.554Z"
   },
   {
    "duration": 26,
    "start_time": "2025-02-19T13:26:01.711Z"
   },
   {
    "duration": 3,
    "start_time": "2025-02-19T13:30:55.848Z"
   },
   {
    "duration": 6,
    "start_time": "2025-02-19T13:31:20.409Z"
   },
   {
    "duration": 7,
    "start_time": "2025-02-19T13:31:35.255Z"
   },
   {
    "duration": 6,
    "start_time": "2025-02-19T13:31:48.468Z"
   },
   {
    "duration": 4,
    "start_time": "2025-02-19T13:33:54.802Z"
   },
   {
    "duration": 7,
    "start_time": "2025-02-19T13:33:56.562Z"
   },
   {
    "duration": 8,
    "start_time": "2025-02-19T13:33:58.076Z"
   },
   {
    "duration": 8,
    "start_time": "2025-02-19T13:34:00.325Z"
   },
   {
    "duration": 4,
    "start_time": "2025-02-19T13:42:12.314Z"
   },
   {
    "duration": 13,
    "start_time": "2025-02-19T13:42:40.800Z"
   },
   {
    "duration": 4,
    "start_time": "2025-02-19T13:49:36.402Z"
   },
   {
    "duration": 3,
    "start_time": "2025-02-19T13:51:28.362Z"
   },
   {
    "duration": 12,
    "start_time": "2025-02-19T13:51:32.149Z"
   },
   {
    "duration": 5,
    "start_time": "2025-02-19T13:51:35.466Z"
   },
   {
    "duration": 4,
    "start_time": "2025-02-19T13:55:00.724Z"
   },
   {
    "duration": 4,
    "start_time": "2025-02-19T13:55:31.895Z"
   },
   {
    "duration": 5294,
    "start_time": "2025-02-19T13:55:33.499Z"
   },
   {
    "duration": 2,
    "start_time": "2025-02-19T13:58:24.629Z"
   },
   {
    "duration": 16,
    "start_time": "2025-02-19T13:58:32.898Z"
   },
   {
    "duration": 5,
    "start_time": "2025-02-19T13:58:35.468Z"
   },
   {
    "duration": 4,
    "start_time": "2025-02-19T13:59:05.946Z"
   },
   {
    "duration": 4009,
    "start_time": "2025-02-19T13:59:07.993Z"
   },
   {
    "duration": 4,
    "start_time": "2025-02-19T14:01:03.636Z"
   },
   {
    "duration": 3095,
    "start_time": "2025-02-19T14:01:05.263Z"
   },
   {
    "duration": 6,
    "start_time": "2025-02-19T14:02:06.184Z"
   },
   {
    "duration": 4,
    "start_time": "2025-02-19T14:03:51.314Z"
   },
   {
    "duration": 610,
    "start_time": "2025-02-19T14:03:53.506Z"
   },
   {
    "duration": 5,
    "start_time": "2025-02-19T14:03:55.235Z"
   },
   {
    "duration": 899,
    "start_time": "2025-02-19T14:05:40.200Z"
   },
   {
    "duration": 280,
    "start_time": "2025-02-19T14:05:41.101Z"
   },
   {
    "duration": 40,
    "start_time": "2025-02-19T14:05:41.384Z"
   },
   {
    "duration": 121,
    "start_time": "2025-02-19T14:05:41.427Z"
   },
   {
    "duration": 16,
    "start_time": "2025-02-19T14:05:41.550Z"
   },
   {
    "duration": 3,
    "start_time": "2025-02-19T14:05:41.568Z"
   },
   {
    "duration": 5,
    "start_time": "2025-02-19T14:05:41.573Z"
   },
   {
    "duration": 58,
    "start_time": "2025-02-19T14:05:41.581Z"
   },
   {
    "duration": 90,
    "start_time": "2025-02-19T14:05:41.640Z"
   },
   {
    "duration": 101,
    "start_time": "2025-02-19T14:05:41.734Z"
   },
   {
    "duration": 4,
    "start_time": "2025-02-19T14:05:41.837Z"
   },
   {
    "duration": 81,
    "start_time": "2025-02-19T14:05:41.843Z"
   },
   {
    "duration": 14,
    "start_time": "2025-02-19T14:05:41.926Z"
   },
   {
    "duration": 4,
    "start_time": "2025-02-19T14:05:41.942Z"
   },
   {
    "duration": 5,
    "start_time": "2025-02-19T14:05:41.948Z"
   },
   {
    "duration": 674,
    "start_time": "2025-02-19T14:05:41.955Z"
   },
   {
    "duration": 6,
    "start_time": "2025-02-19T14:05:42.631Z"
   },
   {
    "duration": 4,
    "start_time": "2025-02-19T14:07:57.558Z"
   },
   {
    "duration": 1349,
    "start_time": "2025-02-19T14:08:00.124Z"
   },
   {
    "duration": 4,
    "start_time": "2025-02-19T14:08:30.020Z"
   },
   {
    "duration": 610,
    "start_time": "2025-02-19T14:08:34.407Z"
   },
   {
    "duration": 6,
    "start_time": "2025-02-19T14:08:36.636Z"
   },
   {
    "duration": 5,
    "start_time": "2025-02-19T14:08:41.709Z"
   },
   {
    "duration": 638,
    "start_time": "2025-02-19T14:08:43.618Z"
   },
   {
    "duration": 11,
    "start_time": "2025-02-19T14:08:45.073Z"
   },
   {
    "duration": 4,
    "start_time": "2025-02-19T14:10:10.801Z"
   },
   {
    "duration": 586,
    "start_time": "2025-02-19T14:10:12.673Z"
   },
   {
    "duration": 5,
    "start_time": "2025-02-19T14:10:15.438Z"
   },
   {
    "duration": 5,
    "start_time": "2025-02-19T14:21:29.005Z"
   },
   {
    "duration": 885,
    "start_time": "2025-02-19T14:21:45.065Z"
   },
   {
    "duration": 3,
    "start_time": "2025-02-19T14:22:15.899Z"
   },
   {
    "duration": 23,
    "start_time": "2025-02-19T14:22:18.651Z"
   },
   {
    "duration": 5,
    "start_time": "2025-02-19T14:23:31.330Z"
   },
   {
    "duration": 41,
    "start_time": "2025-02-19T14:23:33.366Z"
   },
   {
    "duration": 5,
    "start_time": "2025-02-19T14:23:41.337Z"
   },
   {
    "duration": 1106,
    "start_time": "2025-02-19T14:23:43.875Z"
   },
   {
    "duration": 5,
    "start_time": "2025-02-19T14:25:34.289Z"
   },
   {
    "duration": 1174,
    "start_time": "2025-02-19T14:25:37.868Z"
   },
   {
    "duration": 5,
    "start_time": "2025-02-19T14:30:47.176Z"
   },
   {
    "duration": 29,
    "start_time": "2025-02-19T14:30:49.141Z"
   },
   {
    "duration": 3,
    "start_time": "2025-02-19T14:31:02.821Z"
   },
   {
    "duration": 14,
    "start_time": "2025-02-19T14:31:04.240Z"
   },
   {
    "duration": 4,
    "start_time": "2025-02-19T14:31:06.192Z"
   },
   {
    "duration": 3,
    "start_time": "2025-02-19T14:32:22.054Z"
   },
   {
    "duration": 13,
    "start_time": "2025-02-19T14:32:24.133Z"
   },
   {
    "duration": 4,
    "start_time": "2025-02-19T14:32:26.057Z"
   },
   {
    "duration": 4,
    "start_time": "2025-02-19T14:37:15.082Z"
   },
   {
    "duration": 57,
    "start_time": "2025-02-19T14:37:19.268Z"
   },
   {
    "duration": 4,
    "start_time": "2025-02-19T14:37:32.439Z"
   },
   {
    "duration": 102,
    "start_time": "2025-02-19T14:37:34.334Z"
   },
   {
    "duration": 5,
    "start_time": "2025-02-19T14:37:43.330Z"
   },
   {
    "duration": 30,
    "start_time": "2025-02-19T14:37:44.837Z"
   },
   {
    "duration": 19,
    "start_time": "2025-02-19T14:37:56.548Z"
   },
   {
    "duration": 17,
    "start_time": "2025-02-19T14:37:58.036Z"
   },
   {
    "duration": 3,
    "start_time": "2025-02-19T14:38:20.957Z"
   },
   {
    "duration": 13,
    "start_time": "2025-02-19T14:38:23.010Z"
   },
   {
    "duration": 4,
    "start_time": "2025-02-19T14:38:24.704Z"
   },
   {
    "duration": 5,
    "start_time": "2025-02-19T14:38:47.895Z"
   },
   {
    "duration": 1451,
    "start_time": "2025-02-19T14:38:50.290Z"
   },
   {
    "duration": 5,
    "start_time": "2025-02-19T14:39:11.344Z"
   },
   {
    "duration": 1409,
    "start_time": "2025-02-19T14:39:14.452Z"
   },
   {
    "duration": 5,
    "start_time": "2025-02-19T14:39:56.965Z"
   },
   {
    "duration": 14,
    "start_time": "2025-02-19T14:39:58.611Z"
   },
   {
    "duration": 5,
    "start_time": "2025-02-19T14:40:00.196Z"
   },
   {
    "duration": 4,
    "start_time": "2025-02-19T14:40:14.743Z"
   },
   {
    "duration": 17,
    "start_time": "2025-02-19T14:40:16.576Z"
   },
   {
    "duration": 4,
    "start_time": "2025-02-19T14:40:18.405Z"
   },
   {
    "duration": 5,
    "start_time": "2025-02-19T14:43:34.273Z"
   },
   {
    "duration": 1528,
    "start_time": "2025-02-19T14:43:37.748Z"
   },
   {
    "duration": 3,
    "start_time": "2025-02-19T14:51:18.115Z"
   },
   {
    "duration": 39,
    "start_time": "2025-02-19T14:51:55.770Z"
   },
   {
    "duration": 4,
    "start_time": "2025-02-19T14:52:08.284Z"
   },
   {
    "duration": 110,
    "start_time": "2025-02-19T14:52:10.427Z"
   },
   {
    "duration": 5,
    "start_time": "2025-02-19T14:52:18.968Z"
   },
   {
    "duration": 29,
    "start_time": "2025-02-19T14:52:20.432Z"
   },
   {
    "duration": 20,
    "start_time": "2025-02-19T14:53:04.636Z"
   },
   {
    "duration": 25,
    "start_time": "2025-02-19T14:53:29.024Z"
   },
   {
    "duration": 174,
    "start_time": "2025-02-19T14:54:08.853Z"
   },
   {
    "duration": 6,
    "start_time": "2025-02-19T14:54:59.748Z"
   },
   {
    "duration": 82,
    "start_time": "2025-02-19T14:55:05.757Z"
   },
   {
    "duration": 5,
    "start_time": "2025-02-19T14:55:07.615Z"
   },
   {
    "duration": 3,
    "start_time": "2025-02-19T14:57:09.282Z"
   },
   {
    "duration": 21,
    "start_time": "2025-02-19T15:03:02.308Z"
   },
   {
    "duration": 31,
    "start_time": "2025-02-19T15:03:31.243Z"
   },
   {
    "duration": 24,
    "start_time": "2025-02-19T15:03:40.612Z"
   },
   {
    "duration": 26,
    "start_time": "2025-02-19T15:04:14.014Z"
   },
   {
    "duration": 7,
    "start_time": "2025-02-19T15:06:01.729Z"
   },
   {
    "duration": 8,
    "start_time": "2025-02-19T15:06:10.188Z"
   },
   {
    "duration": 4,
    "start_time": "2025-02-19T15:20:41.335Z"
   },
   {
    "duration": 10,
    "start_time": "2025-02-19T15:20:43.380Z"
   },
   {
    "duration": 18,
    "start_time": "2025-02-19T15:21:41.347Z"
   },
   {
    "duration": 5,
    "start_time": "2025-02-19T15:22:36.369Z"
   },
   {
    "duration": 4,
    "start_time": "2025-02-19T15:23:05.965Z"
   },
   {
    "duration": 18,
    "start_time": "2025-02-19T15:23:07.767Z"
   },
   {
    "duration": 5,
    "start_time": "2025-02-19T15:23:13.820Z"
   },
   {
    "duration": 4,
    "start_time": "2025-02-19T15:24:31.094Z"
   },
   {
    "duration": 5,
    "start_time": "2025-02-19T15:24:41.368Z"
   },
   {
    "duration": 41,
    "start_time": "2025-02-19T15:24:43.319Z"
   },
   {
    "duration": 5,
    "start_time": "2025-02-19T15:25:12.448Z"
   },
   {
    "duration": 282,
    "start_time": "2025-02-19T15:25:14.582Z"
   },
   {
    "duration": 5,
    "start_time": "2025-02-19T15:26:28.924Z"
   },
   {
    "duration": 18,
    "start_time": "2025-02-19T15:26:31.491Z"
   },
   {
    "duration": 18,
    "start_time": "2025-02-19T15:26:46.208Z"
   },
   {
    "duration": 24,
    "start_time": "2025-02-19T15:26:52.170Z"
   },
   {
    "duration": 5,
    "start_time": "2025-02-19T15:27:04.611Z"
   },
   {
    "duration": 763,
    "start_time": "2025-02-19T15:27:06.476Z"
   },
   {
    "duration": 825,
    "start_time": "2025-02-19T15:28:20.322Z"
   },
   {
    "duration": 231,
    "start_time": "2025-02-19T15:28:21.150Z"
   },
   {
    "duration": 26,
    "start_time": "2025-02-19T15:28:21.382Z"
   },
   {
    "duration": 95,
    "start_time": "2025-02-19T15:28:21.423Z"
   },
   {
    "duration": 14,
    "start_time": "2025-02-19T15:28:21.524Z"
   },
   {
    "duration": 2,
    "start_time": "2025-02-19T15:28:21.540Z"
   },
   {
    "duration": 4,
    "start_time": "2025-02-19T15:28:21.544Z"
   },
   {
    "duration": 178,
    "start_time": "2025-02-19T15:28:21.549Z"
   },
   {
    "duration": 4,
    "start_time": "2025-02-19T15:28:21.729Z"
   },
   {
    "duration": 3,
    "start_time": "2025-02-19T15:28:21.736Z"
   },
   {
    "duration": 4,
    "start_time": "2025-02-19T15:28:21.741Z"
   },
   {
    "duration": 88,
    "start_time": "2025-02-19T15:28:21.747Z"
   },
   {
    "duration": 3,
    "start_time": "2025-02-19T15:28:21.837Z"
   },
   {
    "duration": 4,
    "start_time": "2025-02-19T15:28:21.842Z"
   },
   {
    "duration": 791,
    "start_time": "2025-02-19T15:28:21.847Z"
   },
   {
    "duration": 225,
    "start_time": "2025-02-19T15:28:22.640Z"
   },
   {
    "duration": 0,
    "start_time": "2025-02-19T15:28:22.867Z"
   },
   {
    "duration": 5,
    "start_time": "2025-02-19T15:30:49.431Z"
   },
   {
    "duration": 437,
    "start_time": "2025-02-19T15:30:51.596Z"
   },
   {
    "duration": 4,
    "start_time": "2025-02-19T15:32:17.120Z"
   },
   {
    "duration": 760,
    "start_time": "2025-02-19T15:32:19.491Z"
   },
   {
    "duration": 845,
    "start_time": "2025-02-19T15:33:53.847Z"
   },
   {
    "duration": 6,
    "start_time": "2025-02-19T15:35:36.092Z"
   },
   {
    "duration": 10,
    "start_time": "2025-02-19T15:35:43.262Z"
   },
   {
    "duration": 4,
    "start_time": "2025-02-19T15:36:20.446Z"
   },
   {
    "duration": 15,
    "start_time": "2025-02-19T15:36:22.350Z"
   },
   {
    "duration": 3,
    "start_time": "2025-02-19T15:42:38.221Z"
   },
   {
    "duration": 16,
    "start_time": "2025-02-19T15:42:40.202Z"
   },
   {
    "duration": 4,
    "start_time": "2025-02-19T15:42:42.111Z"
   },
   {
    "duration": 5,
    "start_time": "2025-02-19T15:44:46.577Z"
   },
   {
    "duration": 693,
    "start_time": "2025-02-19T15:44:48.631Z"
   },
   {
    "duration": 1996,
    "start_time": "2025-02-19T15:45:26.489Z"
   },
   {
    "duration": 759,
    "start_time": "2025-02-19T15:47:22.668Z"
   },
   {
    "duration": 760,
    "start_time": "2025-02-19T15:47:56.490Z"
   },
   {
    "duration": 2332,
    "start_time": "2025-02-19T15:48:27.672Z"
   },
   {
    "duration": 2070,
    "start_time": "2025-02-19T15:49:00.188Z"
   },
   {
    "duration": 3,
    "start_time": "2025-02-19T15:53:46.986Z"
   },
   {
    "duration": 28,
    "start_time": "2025-02-19T15:54:44.695Z"
   },
   {
    "duration": 1027,
    "start_time": "2025-02-19T15:55:35.091Z"
   },
   {
    "duration": 317,
    "start_time": "2025-02-19T15:55:36.123Z"
   },
   {
    "duration": 34,
    "start_time": "2025-02-19T15:55:36.442Z"
   },
   {
    "duration": 173,
    "start_time": "2025-02-19T15:55:36.480Z"
   },
   {
    "duration": 19,
    "start_time": "2025-02-19T15:55:36.656Z"
   },
   {
    "duration": 6,
    "start_time": "2025-02-19T15:55:36.677Z"
   },
   {
    "duration": 5,
    "start_time": "2025-02-19T15:55:36.686Z"
   },
   {
    "duration": 307,
    "start_time": "2025-02-19T15:55:36.725Z"
   },
   {
    "duration": 14,
    "start_time": "2025-02-19T15:55:37.036Z"
   },
   {
    "duration": 5,
    "start_time": "2025-02-19T15:55:37.130Z"
   },
   {
    "duration": 4,
    "start_time": "2025-02-19T15:55:37.137Z"
   },
   {
    "duration": 17,
    "start_time": "2025-02-19T15:55:37.145Z"
   },
   {
    "duration": 4,
    "start_time": "2025-02-19T15:55:37.165Z"
   },
   {
    "duration": 55,
    "start_time": "2025-02-19T15:55:37.172Z"
   },
   {
    "duration": 2148,
    "start_time": "2025-02-19T15:55:37.230Z"
   },
   {
    "duration": 5,
    "start_time": "2025-02-19T15:55:39.381Z"
   },
   {
    "duration": 278,
    "start_time": "2025-02-19T15:55:39.389Z"
   },
   {
    "duration": 4,
    "start_time": "2025-02-19T15:55:52.876Z"
   },
   {
    "duration": 9,
    "start_time": "2025-02-19T15:55:54.483Z"
   },
   {
    "duration": 7,
    "start_time": "2025-02-19T16:00:41.764Z"
   },
   {
    "duration": 655,
    "start_time": "2025-02-19T16:01:12.549Z"
   },
   {
    "duration": 6,
    "start_time": "2025-02-19T16:03:46.873Z"
   },
   {
    "duration": 722,
    "start_time": "2025-02-19T16:03:49.106Z"
   },
   {
    "duration": 5,
    "start_time": "2025-02-19T16:04:30.200Z"
   },
   {
    "duration": 713,
    "start_time": "2025-02-19T16:04:32.253Z"
   },
   {
    "duration": 1943,
    "start_time": "2025-02-19T16:05:05.740Z"
   },
   {
    "duration": 4,
    "start_time": "2025-02-19T16:05:24.273Z"
   },
   {
    "duration": 25,
    "start_time": "2025-02-19T16:05:27.803Z"
   },
   {
    "duration": 4,
    "start_time": "2025-02-19T16:06:04.815Z"
   },
   {
    "duration": 31,
    "start_time": "2025-02-19T16:06:09.180Z"
   },
   {
    "duration": 867,
    "start_time": "2025-02-19T16:06:17.695Z"
   },
   {
    "duration": 300,
    "start_time": "2025-02-19T16:06:18.565Z"
   },
   {
    "duration": 32,
    "start_time": "2025-02-19T16:06:18.868Z"
   },
   {
    "duration": 110,
    "start_time": "2025-02-19T16:06:18.902Z"
   },
   {
    "duration": 17,
    "start_time": "2025-02-19T16:06:19.023Z"
   },
   {
    "duration": 3,
    "start_time": "2025-02-19T16:06:19.042Z"
   },
   {
    "duration": 5,
    "start_time": "2025-02-19T16:06:19.047Z"
   },
   {
    "duration": 171,
    "start_time": "2025-02-19T16:06:19.054Z"
   },
   {
    "duration": 6,
    "start_time": "2025-02-19T16:06:19.230Z"
   },
   {
    "duration": 4,
    "start_time": "2025-02-19T16:06:19.239Z"
   },
   {
    "duration": 5,
    "start_time": "2025-02-19T16:06:19.246Z"
   },
   {
    "duration": 81,
    "start_time": "2025-02-19T16:06:19.253Z"
   },
   {
    "duration": 5,
    "start_time": "2025-02-19T16:06:19.336Z"
   },
   {
    "duration": 5,
    "start_time": "2025-02-19T16:06:19.345Z"
   },
   {
    "duration": 1957,
    "start_time": "2025-02-19T16:06:19.353Z"
   },
   {
    "duration": 3,
    "start_time": "2025-02-19T16:06:21.312Z"
   },
   {
    "duration": 9,
    "start_time": "2025-02-19T16:06:21.325Z"
   },
   {
    "duration": 3,
    "start_time": "2025-02-19T16:08:13.427Z"
   },
   {
    "duration": 9,
    "start_time": "2025-02-19T16:08:15.267Z"
   },
   {
    "duration": 814,
    "start_time": "2025-02-19T18:35:23.687Z"
   },
   {
    "duration": 314,
    "start_time": "2025-02-19T18:35:24.503Z"
   },
   {
    "duration": 27,
    "start_time": "2025-02-19T18:35:24.819Z"
   },
   {
    "duration": 85,
    "start_time": "2025-02-19T18:35:24.847Z"
   },
   {
    "duration": 13,
    "start_time": "2025-02-19T18:35:24.935Z"
   },
   {
    "duration": 4,
    "start_time": "2025-02-19T18:35:24.949Z"
   },
   {
    "duration": 156,
    "start_time": "2025-02-19T18:35:24.954Z"
   },
   {
    "duration": 4,
    "start_time": "2025-02-19T18:35:25.112Z"
   },
   {
    "duration": 3,
    "start_time": "2025-02-19T18:35:25.118Z"
   },
   {
    "duration": 4,
    "start_time": "2025-02-19T18:35:25.123Z"
   },
   {
    "duration": 87,
    "start_time": "2025-02-19T18:35:25.128Z"
   },
   {
    "duration": 4,
    "start_time": "2025-02-19T18:35:25.216Z"
   },
   {
    "duration": 4,
    "start_time": "2025-02-19T18:35:25.221Z"
   },
   {
    "duration": 1743,
    "start_time": "2025-02-19T18:35:25.229Z"
   },
   {
    "duration": 3,
    "start_time": "2025-02-19T18:35:26.974Z"
   },
   {
    "duration": 8,
    "start_time": "2025-02-19T18:35:26.978Z"
   },
   {
    "duration": 3,
    "start_time": "2025-02-19T18:40:05.707Z"
   },
   {
    "duration": 224,
    "start_time": "2025-02-19T18:40:05.712Z"
   },
   {
    "duration": 29,
    "start_time": "2025-02-19T18:40:05.939Z"
   },
   {
    "duration": 95,
    "start_time": "2025-02-19T18:40:05.970Z"
   },
   {
    "duration": 9,
    "start_time": "2025-02-19T18:40:06.068Z"
   },
   {
    "duration": 3,
    "start_time": "2025-02-19T18:40:06.079Z"
   },
   {
    "duration": 126,
    "start_time": "2025-02-19T18:40:06.084Z"
   },
   {
    "duration": 4,
    "start_time": "2025-02-19T18:40:06.212Z"
   },
   {
    "duration": 4,
    "start_time": "2025-02-19T18:40:06.218Z"
   },
   {
    "duration": 3,
    "start_time": "2025-02-19T18:40:06.224Z"
   },
   {
    "duration": 81,
    "start_time": "2025-02-19T18:40:06.229Z"
   },
   {
    "duration": 3,
    "start_time": "2025-02-19T18:40:06.311Z"
   },
   {
    "duration": 4,
    "start_time": "2025-02-19T18:40:06.316Z"
   },
   {
    "duration": 1829,
    "start_time": "2025-02-19T18:40:06.323Z"
   },
   {
    "duration": 4,
    "start_time": "2025-02-19T18:40:08.153Z"
   },
   {
    "duration": 6,
    "start_time": "2025-02-19T18:40:08.159Z"
   },
   {
    "duration": 775,
    "start_time": "2025-02-19T20:23:21.092Z"
   },
   {
    "duration": 305,
    "start_time": "2025-02-19T20:23:21.869Z"
   },
   {
    "duration": 39,
    "start_time": "2025-02-19T20:23:22.178Z"
   },
   {
    "duration": 94,
    "start_time": "2025-02-19T20:23:22.219Z"
   },
   {
    "duration": 14,
    "start_time": "2025-02-19T20:23:22.315Z"
   },
   {
    "duration": 4,
    "start_time": "2025-02-19T20:23:22.331Z"
   },
   {
    "duration": 94,
    "start_time": "2025-02-19T20:23:22.337Z"
   },
   {
    "duration": 5,
    "start_time": "2025-02-19T20:23:22.433Z"
   },
   {
    "duration": 71,
    "start_time": "2025-02-19T20:23:22.440Z"
   },
   {
    "duration": 14,
    "start_time": "2025-02-19T20:23:22.514Z"
   },
   {
    "duration": 15,
    "start_time": "2025-02-19T20:23:22.529Z"
   },
   {
    "duration": 4,
    "start_time": "2025-02-19T20:23:22.546Z"
   },
   {
    "duration": 6,
    "start_time": "2025-02-19T20:23:22.551Z"
   },
   {
    "duration": 1877,
    "start_time": "2025-02-19T20:23:22.558Z"
   },
   {
    "duration": 3,
    "start_time": "2025-02-19T20:23:24.437Z"
   },
   {
    "duration": 8,
    "start_time": "2025-02-19T20:23:24.442Z"
   },
   {
    "duration": 2233,
    "start_time": "2025-02-19T20:27:23.569Z"
   },
   {
    "duration": 722,
    "start_time": "2025-02-19T20:27:41.358Z"
   },
   {
    "duration": 345,
    "start_time": "2025-02-19T20:27:48.278Z"
   },
   {
    "duration": 276,
    "start_time": "2025-02-19T20:34:56.683Z"
   },
   {
    "duration": 249,
    "start_time": "2025-02-19T20:35:07.860Z"
   },
   {
    "duration": 275,
    "start_time": "2025-02-19T20:48:11.512Z"
   },
   {
    "duration": 371,
    "start_time": "2025-02-19T20:48:14.645Z"
   }
  ],
  "kernelspec": {
   "display_name": "Python 3 (ipykernel)",
   "language": "python",
   "name": "python3"
  },
  "language_info": {
   "codemirror_mode": {
    "name": "ipython",
    "version": 3
   },
   "file_extension": ".py",
   "mimetype": "text/x-python",
   "name": "python",
   "nbconvert_exporter": "python",
   "pygments_lexer": "ipython3",
   "version": "3.9.19"
  },
  "toc": {
   "base_numbering": 1,
   "nav_menu": {},
   "number_sections": true,
   "sideBar": true,
   "skip_h1_title": true,
   "title_cell": "Table of Contents",
   "title_sidebar": "Contents",
   "toc_cell": false,
   "toc_position": {},
   "toc_section_display": true,
   "toc_window_display": false
  }
 },
 "nbformat": 4,
 "nbformat_minor": 2
}
